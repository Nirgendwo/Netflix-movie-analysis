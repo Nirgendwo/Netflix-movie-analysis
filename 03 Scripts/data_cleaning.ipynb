{
 "cells": [
  {
   "cell_type": "markdown",
   "id": "9db60044",
   "metadata": {},
   "source": [
    "# Content\n",
    "- Data cleaning\n",
    "    - mixed data\n",
    "    - duplicates\n",
    "    - null values"
   ]
  },
  {
   "cell_type": "code",
   "execution_count": 1,
   "id": "a60bc8fb",
   "metadata": {
    "ExecuteTime": {
     "end_time": "2022-12-11T04:55:05.202778Z",
     "start_time": "2022-12-11T04:55:04.953915Z"
    }
   },
   "outputs": [],
   "source": [
    "# import lybaries \n",
    "import pandas as pd\n",
    "import numpy as np\n",
    "import os"
   ]
  },
  {
   "cell_type": "code",
   "execution_count": 2,
   "id": "9df346c4",
   "metadata": {
    "ExecuteTime": {
     "end_time": "2022-12-11T04:55:05.263479Z",
     "start_time": "2022-12-11T04:55:05.205628Z"
    }
   },
   "outputs": [],
   "source": [
    "# import data\n",
    "path = r'/Users/lennartzeidler/Desktop/Uni/(6) Advances Analytics and Dashboard Design/Netflix movies analysis'\n",
    "df_Netflix_movies = pd.read_csv(os.path.join(path, '02 Data','Original Data', 'netflix_titles.csv'))"
   ]
  },
  {
   "cell_type": "code",
   "execution_count": 3,
   "id": "13954547",
   "metadata": {
    "ExecuteTime": {
     "end_time": "2022-12-11T04:55:05.326199Z",
     "start_time": "2022-12-11T04:55:05.265990Z"
    }
   },
   "outputs": [
    {
     "name": "stdout",
     "output_type": "stream",
     "text": [
      "director 2634\n",
      "cast 7982\n",
      "country 831\n",
      "date_added 10\n",
      "rating 4\n",
      "duration 3\n"
     ]
    }
   ],
   "source": [
    "# check for mixed types\n",
    "for col in df_Netflix_movies.columns.tolist():\n",
    "  weird = (df_Netflix_movies[[col]].applymap(type) != df_Netflix_movies[[col]].iloc[0].apply(type)).any(axis = 1)\n",
    "  if len (df_Netflix_movies[weird]) > 0:\n",
    "    print (col, len (df_Netflix_movies[weird]))"
   ]
  },
  {
   "cell_type": "markdown",
   "id": "b0769f73",
   "metadata": {},
   "source": [
    "The result is typical, the reason for the mixed data types are null values, eather the null values are the 'weird' values or the other data was marked as 'weird' data format. Knowing this, I can just change the data types to something consisten.  \n",
    "I don't want to change the dtype of those columns, because othersiwe it gets harder to find the null values. "
   ]
  },
  {
   "cell_type": "code",
   "execution_count": 6,
   "id": "6c9d9be3",
   "metadata": {
    "ExecuteTime": {
     "end_time": "2022-12-11T04:55:05.430850Z",
     "start_time": "2022-12-11T04:55:05.398103Z"
    }
   },
   "outputs": [
    {
     "data": {
      "text/html": [
       "<div>\n",
       "<style scoped>\n",
       "    .dataframe tbody tr th:only-of-type {\n",
       "        vertical-align: middle;\n",
       "    }\n",
       "\n",
       "    .dataframe tbody tr th {\n",
       "        vertical-align: top;\n",
       "    }\n",
       "\n",
       "    .dataframe thead th {\n",
       "        text-align: right;\n",
       "    }\n",
       "</style>\n",
       "<table border=\"1\" class=\"dataframe\">\n",
       "  <thead>\n",
       "    <tr style=\"text-align: right;\">\n",
       "      <th></th>\n",
       "      <th>show_id</th>\n",
       "      <th>type</th>\n",
       "      <th>title</th>\n",
       "      <th>director</th>\n",
       "      <th>cast</th>\n",
       "      <th>country</th>\n",
       "      <th>date_added</th>\n",
       "      <th>release_year</th>\n",
       "      <th>rating</th>\n",
       "      <th>duration</th>\n",
       "      <th>listed_in</th>\n",
       "      <th>description</th>\n",
       "    </tr>\n",
       "  </thead>\n",
       "  <tbody>\n",
       "  </tbody>\n",
       "</table>\n",
       "</div>"
      ],
      "text/plain": [
       "Empty DataFrame\n",
       "Columns: [show_id, type, title, director, cast, country, date_added, release_year, rating, duration, listed_in, description]\n",
       "Index: []"
      ]
     },
     "execution_count": 6,
     "metadata": {},
     "output_type": "execute_result"
    }
   ],
   "source": [
    "# finding duplicates\n",
    "\n",
    "df_dups = df_Netflix_movies[df_Netflix_movies.duplicated()]\n",
    "df_dups"
   ]
  },
  {
   "cell_type": "markdown",
   "id": "17642bf2",
   "metadata": {},
   "source": [
    "no duplicates were found"
   ]
  },
  {
   "cell_type": "code",
   "execution_count": 7,
   "id": "89729035",
   "metadata": {
    "ExecuteTime": {
     "end_time": "2022-12-11T04:55:05.445563Z",
     "start_time": "2022-12-11T04:55:05.434977Z"
    }
   },
   "outputs": [
    {
     "data": {
      "text/plain": [
       "show_id            0\n",
       "type               0\n",
       "title              0\n",
       "director        2634\n",
       "cast             825\n",
       "country          831\n",
       "date_added        10\n",
       "release_year       0\n",
       "rating             4\n",
       "duration           3\n",
       "listed_in          0\n",
       "description        0\n",
       "dtype: int64"
      ]
     },
     "execution_count": 7,
     "metadata": {},
     "output_type": "execute_result"
    }
   ],
   "source": [
    "# finding null values\n",
    "df_Netflix_movies.isnull().sum()"
   ]
  },
  {
   "cell_type": "markdown",
   "id": "470e3a09",
   "metadata": {},
   "source": [
    "I won't do anything about those missing values, since there is no pattern for them and I might be able to use data from a column wich containes one missing value. When using with Tableu later on, they don't matter anymore anyway, because Tableu filters those out. Since this is only my own project I don't have to report those values to anone and should just be aware of them."
   ]
  }
 ],
 "metadata": {
  "kernelspec": {
   "display_name": "Python 3",
   "language": "python",
   "name": "python3"
  },
  "language_info": {
   "codemirror_mode": {
    "name": "ipython",
    "version": 3
   },
   "file_extension": ".py",
   "mimetype": "text/x-python",
   "name": "python",
   "nbconvert_exporter": "python",
   "pygments_lexer": "ipython3",
   "version": "3.8.8"
  }
 },
 "nbformat": 4,
 "nbformat_minor": 5
}

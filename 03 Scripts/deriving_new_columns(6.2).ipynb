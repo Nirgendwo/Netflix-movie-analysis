{
 "cells": [
  {
   "cell_type": "markdown",
   "id": "d45d29d2",
   "metadata": {},
   "source": [
    "# Content\n",
    "This file is derive some more numeric columns. \n",
    "I assume in this document, that a season has an average duration of 360 minutes (12 * 30 minutes)  \n",
    "nwe derived columns:  \n",
    "- duration in minutes\n",
    "- cast count\n",
    "- genre count"
   ]
  },
  {
   "cell_type": "code",
   "execution_count": 1,
   "id": "8da46d2f",
   "metadata": {
    "ExecuteTime": {
     "end_time": "2022-12-13T08:21:27.568953Z",
     "start_time": "2022-12-13T08:21:27.088256Z"
    }
   },
   "outputs": [],
   "source": [
    "import pandas as pd\n",
    "import numpy as np\n",
    "import os"
   ]
  },
  {
   "cell_type": "code",
   "execution_count": 2,
   "id": "e57a479b",
   "metadata": {
    "ExecuteTime": {
     "end_time": "2022-12-13T08:21:27.631740Z",
     "start_time": "2022-12-13T08:21:27.570950Z"
    }
   },
   "outputs": [],
   "source": [
    "# import data\n",
    "path = r'/Users/lennartzeidler/Desktop/Uni/(6) Advances Analytics and Dashboard Design/Netflix movies analysis'\n",
    "df_Netflix_movies = pd.read_csv(os.path.join(path, '02 Data','Original Data', 'netflix_titles.csv'))"
   ]
  },
  {
   "cell_type": "code",
   "execution_count": 3,
   "id": "934e3d94",
   "metadata": {
    "ExecuteTime": {
     "end_time": "2022-12-13T08:21:27.656276Z",
     "start_time": "2022-12-13T08:21:27.633572Z"
    }
   },
   "outputs": [
    {
     "data": {
      "text/html": [
       "<div>\n",
       "<style scoped>\n",
       "    .dataframe tbody tr th:only-of-type {\n",
       "        vertical-align: middle;\n",
       "    }\n",
       "\n",
       "    .dataframe tbody tr th {\n",
       "        vertical-align: top;\n",
       "    }\n",
       "\n",
       "    .dataframe thead th {\n",
       "        text-align: right;\n",
       "    }\n",
       "</style>\n",
       "<table border=\"1\" class=\"dataframe\">\n",
       "  <thead>\n",
       "    <tr style=\"text-align: right;\">\n",
       "      <th></th>\n",
       "      <th>show_id</th>\n",
       "      <th>type</th>\n",
       "      <th>title</th>\n",
       "      <th>director</th>\n",
       "      <th>cast</th>\n",
       "      <th>country</th>\n",
       "      <th>date_added</th>\n",
       "      <th>release_year</th>\n",
       "      <th>rating</th>\n",
       "      <th>duration</th>\n",
       "      <th>listed_in</th>\n",
       "      <th>description</th>\n",
       "    </tr>\n",
       "  </thead>\n",
       "  <tbody>\n",
       "    <tr>\n",
       "      <th>0</th>\n",
       "      <td>s1</td>\n",
       "      <td>Movie</td>\n",
       "      <td>Dick Johnson Is Dead</td>\n",
       "      <td>Kirsten Johnson</td>\n",
       "      <td>NaN</td>\n",
       "      <td>United States</td>\n",
       "      <td>September 25, 2021</td>\n",
       "      <td>2020</td>\n",
       "      <td>PG-13</td>\n",
       "      <td>90 min</td>\n",
       "      <td>Documentaries</td>\n",
       "      <td>As her father nears the end of his life, filmm...</td>\n",
       "    </tr>\n",
       "    <tr>\n",
       "      <th>1</th>\n",
       "      <td>s2</td>\n",
       "      <td>TV Show</td>\n",
       "      <td>Blood &amp; Water</td>\n",
       "      <td>NaN</td>\n",
       "      <td>Ama Qamata, Khosi Ngema, Gail Mabalane, Thaban...</td>\n",
       "      <td>South Africa</td>\n",
       "      <td>September 24, 2021</td>\n",
       "      <td>2021</td>\n",
       "      <td>TV-MA</td>\n",
       "      <td>2 Seasons</td>\n",
       "      <td>International TV Shows, TV Dramas, TV Mysteries</td>\n",
       "      <td>After crossing paths at a party, a Cape Town t...</td>\n",
       "    </tr>\n",
       "    <tr>\n",
       "      <th>2</th>\n",
       "      <td>s3</td>\n",
       "      <td>TV Show</td>\n",
       "      <td>Ganglands</td>\n",
       "      <td>Julien Leclercq</td>\n",
       "      <td>Sami Bouajila, Tracy Gotoas, Samuel Jouy, Nabi...</td>\n",
       "      <td>NaN</td>\n",
       "      <td>September 24, 2021</td>\n",
       "      <td>2021</td>\n",
       "      <td>TV-MA</td>\n",
       "      <td>1 Season</td>\n",
       "      <td>Crime TV Shows, International TV Shows, TV Act...</td>\n",
       "      <td>To protect his family from a powerful drug lor...</td>\n",
       "    </tr>\n",
       "    <tr>\n",
       "      <th>3</th>\n",
       "      <td>s4</td>\n",
       "      <td>TV Show</td>\n",
       "      <td>Jailbirds New Orleans</td>\n",
       "      <td>NaN</td>\n",
       "      <td>NaN</td>\n",
       "      <td>NaN</td>\n",
       "      <td>September 24, 2021</td>\n",
       "      <td>2021</td>\n",
       "      <td>TV-MA</td>\n",
       "      <td>1 Season</td>\n",
       "      <td>Docuseries, Reality TV</td>\n",
       "      <td>Feuds, flirtations and toilet talk go down amo...</td>\n",
       "    </tr>\n",
       "    <tr>\n",
       "      <th>4</th>\n",
       "      <td>s5</td>\n",
       "      <td>TV Show</td>\n",
       "      <td>Kota Factory</td>\n",
       "      <td>NaN</td>\n",
       "      <td>Mayur More, Jitendra Kumar, Ranjan Raj, Alam K...</td>\n",
       "      <td>India</td>\n",
       "      <td>September 24, 2021</td>\n",
       "      <td>2021</td>\n",
       "      <td>TV-MA</td>\n",
       "      <td>2 Seasons</td>\n",
       "      <td>International TV Shows, Romantic TV Shows, TV ...</td>\n",
       "      <td>In a city of coaching centers known to train I...</td>\n",
       "    </tr>\n",
       "  </tbody>\n",
       "</table>\n",
       "</div>"
      ],
      "text/plain": [
       "  show_id     type                  title         director  \\\n",
       "0      s1    Movie   Dick Johnson Is Dead  Kirsten Johnson   \n",
       "1      s2  TV Show          Blood & Water              NaN   \n",
       "2      s3  TV Show              Ganglands  Julien Leclercq   \n",
       "3      s4  TV Show  Jailbirds New Orleans              NaN   \n",
       "4      s5  TV Show           Kota Factory              NaN   \n",
       "\n",
       "                                                cast        country  \\\n",
       "0                                                NaN  United States   \n",
       "1  Ama Qamata, Khosi Ngema, Gail Mabalane, Thaban...   South Africa   \n",
       "2  Sami Bouajila, Tracy Gotoas, Samuel Jouy, Nabi...            NaN   \n",
       "3                                                NaN            NaN   \n",
       "4  Mayur More, Jitendra Kumar, Ranjan Raj, Alam K...          India   \n",
       "\n",
       "           date_added  release_year rating   duration  \\\n",
       "0  September 25, 2021          2020  PG-13     90 min   \n",
       "1  September 24, 2021          2021  TV-MA  2 Seasons   \n",
       "2  September 24, 2021          2021  TV-MA   1 Season   \n",
       "3  September 24, 2021          2021  TV-MA   1 Season   \n",
       "4  September 24, 2021          2021  TV-MA  2 Seasons   \n",
       "\n",
       "                                           listed_in  \\\n",
       "0                                      Documentaries   \n",
       "1    International TV Shows, TV Dramas, TV Mysteries   \n",
       "2  Crime TV Shows, International TV Shows, TV Act...   \n",
       "3                             Docuseries, Reality TV   \n",
       "4  International TV Shows, Romantic TV Shows, TV ...   \n",
       "\n",
       "                                         description  \n",
       "0  As her father nears the end of his life, filmm...  \n",
       "1  After crossing paths at a party, a Cape Town t...  \n",
       "2  To protect his family from a powerful drug lor...  \n",
       "3  Feuds, flirtations and toilet talk go down amo...  \n",
       "4  In a city of coaching centers known to train I...  "
      ]
     },
     "execution_count": 3,
     "metadata": {},
     "output_type": "execute_result"
    }
   ],
   "source": [
    "df_Netflix_movies.head()"
   ]
  },
  {
   "cell_type": "markdown",
   "id": "867d4bf2",
   "metadata": {},
   "source": [
    "### duration in minutes"
   ]
  },
  {
   "cell_type": "code",
   "execution_count": 4,
   "id": "bb68cbf8",
   "metadata": {
    "ExecuteTime": {
     "end_time": "2022-12-13T08:21:27.665628Z",
     "start_time": "2022-12-13T08:21:27.658824Z"
    },
    "scrolled": true
   },
   "outputs": [
    {
     "data": {
      "text/plain": [
       "1 Season     1793\n",
       "2 Seasons     425\n",
       "3 Seasons     199\n",
       "90 min        152\n",
       "93 min        146\n",
       "             ... \n",
       "3 min           1\n",
       "193 min         1\n",
       "201 min         1\n",
       "9 min           1\n",
       "16 min          1\n",
       "Name: duration, Length: 220, dtype: int64"
      ]
     },
     "execution_count": 4,
     "metadata": {},
     "output_type": "execute_result"
    }
   ],
   "source": [
    "df_Netflix_movies['duration'].value_counts()"
   ]
  },
  {
   "cell_type": "code",
   "execution_count": 5,
   "id": "84554bd0",
   "metadata": {
    "ExecuteTime": {
     "end_time": "2022-12-13T08:21:27.677772Z",
     "start_time": "2022-12-13T08:21:27.667430Z"
    }
   },
   "outputs": [],
   "source": [
    "newdur = [];\n",
    "\n",
    "for dur in df_Netflix_movies['duration']:\n",
    "    if ' min' in str(dur):\n",
    "       newdur.append(int(dur.replace(' min', '')))\n",
    "    elif ' Season' in str(dur):\n",
    "        test = dur.replace(' Season', '')\n",
    "        test = test.replace('s', '')\n",
    "        newdur.append(int(test) * 360)\n",
    "    else:\n",
    "        newdur.append(0)"
   ]
  },
  {
   "cell_type": "code",
   "execution_count": 6,
   "id": "fb4aa835",
   "metadata": {
    "ExecuteTime": {
     "end_time": "2022-12-13T08:21:27.685210Z",
     "start_time": "2022-12-13T08:21:27.680104Z"
    }
   },
   "outputs": [],
   "source": [
    "df_Netflix_movies['duration_in_min'] = newdur"
   ]
  },
  {
   "cell_type": "code",
   "execution_count": 7,
   "id": "e85040c2",
   "metadata": {
    "ExecuteTime": {
     "end_time": "2022-12-13T08:21:27.704814Z",
     "start_time": "2022-12-13T08:21:27.689666Z"
    }
   },
   "outputs": [
    {
     "data": {
      "text/html": [
       "<div>\n",
       "<style scoped>\n",
       "    .dataframe tbody tr th:only-of-type {\n",
       "        vertical-align: middle;\n",
       "    }\n",
       "\n",
       "    .dataframe tbody tr th {\n",
       "        vertical-align: top;\n",
       "    }\n",
       "\n",
       "    .dataframe thead th {\n",
       "        text-align: right;\n",
       "    }\n",
       "</style>\n",
       "<table border=\"1\" class=\"dataframe\">\n",
       "  <thead>\n",
       "    <tr style=\"text-align: right;\">\n",
       "      <th></th>\n",
       "      <th>show_id</th>\n",
       "      <th>type</th>\n",
       "      <th>title</th>\n",
       "      <th>director</th>\n",
       "      <th>cast</th>\n",
       "      <th>country</th>\n",
       "      <th>date_added</th>\n",
       "      <th>release_year</th>\n",
       "      <th>rating</th>\n",
       "      <th>duration</th>\n",
       "      <th>listed_in</th>\n",
       "      <th>description</th>\n",
       "      <th>duration_in_min</th>\n",
       "    </tr>\n",
       "  </thead>\n",
       "  <tbody>\n",
       "    <tr>\n",
       "      <th>0</th>\n",
       "      <td>s1</td>\n",
       "      <td>Movie</td>\n",
       "      <td>Dick Johnson Is Dead</td>\n",
       "      <td>Kirsten Johnson</td>\n",
       "      <td>NaN</td>\n",
       "      <td>United States</td>\n",
       "      <td>September 25, 2021</td>\n",
       "      <td>2020</td>\n",
       "      <td>PG-13</td>\n",
       "      <td>90 min</td>\n",
       "      <td>Documentaries</td>\n",
       "      <td>As her father nears the end of his life, filmm...</td>\n",
       "      <td>90</td>\n",
       "    </tr>\n",
       "    <tr>\n",
       "      <th>1</th>\n",
       "      <td>s2</td>\n",
       "      <td>TV Show</td>\n",
       "      <td>Blood &amp; Water</td>\n",
       "      <td>NaN</td>\n",
       "      <td>Ama Qamata, Khosi Ngema, Gail Mabalane, Thaban...</td>\n",
       "      <td>South Africa</td>\n",
       "      <td>September 24, 2021</td>\n",
       "      <td>2021</td>\n",
       "      <td>TV-MA</td>\n",
       "      <td>2 Seasons</td>\n",
       "      <td>International TV Shows, TV Dramas, TV Mysteries</td>\n",
       "      <td>After crossing paths at a party, a Cape Town t...</td>\n",
       "      <td>720</td>\n",
       "    </tr>\n",
       "    <tr>\n",
       "      <th>2</th>\n",
       "      <td>s3</td>\n",
       "      <td>TV Show</td>\n",
       "      <td>Ganglands</td>\n",
       "      <td>Julien Leclercq</td>\n",
       "      <td>Sami Bouajila, Tracy Gotoas, Samuel Jouy, Nabi...</td>\n",
       "      <td>NaN</td>\n",
       "      <td>September 24, 2021</td>\n",
       "      <td>2021</td>\n",
       "      <td>TV-MA</td>\n",
       "      <td>1 Season</td>\n",
       "      <td>Crime TV Shows, International TV Shows, TV Act...</td>\n",
       "      <td>To protect his family from a powerful drug lor...</td>\n",
       "      <td>360</td>\n",
       "    </tr>\n",
       "    <tr>\n",
       "      <th>3</th>\n",
       "      <td>s4</td>\n",
       "      <td>TV Show</td>\n",
       "      <td>Jailbirds New Orleans</td>\n",
       "      <td>NaN</td>\n",
       "      <td>NaN</td>\n",
       "      <td>NaN</td>\n",
       "      <td>September 24, 2021</td>\n",
       "      <td>2021</td>\n",
       "      <td>TV-MA</td>\n",
       "      <td>1 Season</td>\n",
       "      <td>Docuseries, Reality TV</td>\n",
       "      <td>Feuds, flirtations and toilet talk go down amo...</td>\n",
       "      <td>360</td>\n",
       "    </tr>\n",
       "    <tr>\n",
       "      <th>4</th>\n",
       "      <td>s5</td>\n",
       "      <td>TV Show</td>\n",
       "      <td>Kota Factory</td>\n",
       "      <td>NaN</td>\n",
       "      <td>Mayur More, Jitendra Kumar, Ranjan Raj, Alam K...</td>\n",
       "      <td>India</td>\n",
       "      <td>September 24, 2021</td>\n",
       "      <td>2021</td>\n",
       "      <td>TV-MA</td>\n",
       "      <td>2 Seasons</td>\n",
       "      <td>International TV Shows, Romantic TV Shows, TV ...</td>\n",
       "      <td>In a city of coaching centers known to train I...</td>\n",
       "      <td>720</td>\n",
       "    </tr>\n",
       "  </tbody>\n",
       "</table>\n",
       "</div>"
      ],
      "text/plain": [
       "  show_id     type                  title         director  \\\n",
       "0      s1    Movie   Dick Johnson Is Dead  Kirsten Johnson   \n",
       "1      s2  TV Show          Blood & Water              NaN   \n",
       "2      s3  TV Show              Ganglands  Julien Leclercq   \n",
       "3      s4  TV Show  Jailbirds New Orleans              NaN   \n",
       "4      s5  TV Show           Kota Factory              NaN   \n",
       "\n",
       "                                                cast        country  \\\n",
       "0                                                NaN  United States   \n",
       "1  Ama Qamata, Khosi Ngema, Gail Mabalane, Thaban...   South Africa   \n",
       "2  Sami Bouajila, Tracy Gotoas, Samuel Jouy, Nabi...            NaN   \n",
       "3                                                NaN            NaN   \n",
       "4  Mayur More, Jitendra Kumar, Ranjan Raj, Alam K...          India   \n",
       "\n",
       "           date_added  release_year rating   duration  \\\n",
       "0  September 25, 2021          2020  PG-13     90 min   \n",
       "1  September 24, 2021          2021  TV-MA  2 Seasons   \n",
       "2  September 24, 2021          2021  TV-MA   1 Season   \n",
       "3  September 24, 2021          2021  TV-MA   1 Season   \n",
       "4  September 24, 2021          2021  TV-MA  2 Seasons   \n",
       "\n",
       "                                           listed_in  \\\n",
       "0                                      Documentaries   \n",
       "1    International TV Shows, TV Dramas, TV Mysteries   \n",
       "2  Crime TV Shows, International TV Shows, TV Act...   \n",
       "3                             Docuseries, Reality TV   \n",
       "4  International TV Shows, Romantic TV Shows, TV ...   \n",
       "\n",
       "                                         description  duration_in_min  \n",
       "0  As her father nears the end of his life, filmm...               90  \n",
       "1  After crossing paths at a party, a Cape Town t...              720  \n",
       "2  To protect his family from a powerful drug lor...              360  \n",
       "3  Feuds, flirtations and toilet talk go down amo...              360  \n",
       "4  In a city of coaching centers known to train I...              720  "
      ]
     },
     "execution_count": 7,
     "metadata": {},
     "output_type": "execute_result"
    }
   ],
   "source": [
    "df_Netflix_movies.head()"
   ]
  },
  {
   "cell_type": "markdown",
   "id": "314ea2e4",
   "metadata": {},
   "source": [
    "### cast count\n",
    "this column containes the count of the cast people"
   ]
  },
  {
   "cell_type": "code",
   "execution_count": 8,
   "id": "8226ca9c",
   "metadata": {
    "ExecuteTime": {
     "end_time": "2022-12-13T08:21:27.718390Z",
     "start_time": "2022-12-13T08:21:27.707905Z"
    }
   },
   "outputs": [],
   "source": [
    "# creating new values based on amount of ',' pluss one, because a comma seperates two values and two commas seperate three values\n",
    "cast_count = [];\n",
    "for cast in df_Netflix_movies['cast']:\n",
    "    if ',' in str(cast):\n",
    "        cast_count.append(cast.count(',') + 1)\n",
    "    elif pd.isna(cast):\n",
    "        cast_count.append(0)\n",
    "    else:\n",
    "        cast_count.append(1)\n"
   ]
  },
  {
   "cell_type": "code",
   "execution_count": 9,
   "id": "f4a29572",
   "metadata": {
    "ExecuteTime": {
     "end_time": "2022-12-13T08:21:27.726939Z",
     "start_time": "2022-12-13T08:21:27.720060Z"
    }
   },
   "outputs": [],
   "source": [
    "df_Netflix_movies['cast_count'] = cast_count"
   ]
  },
  {
   "cell_type": "markdown",
   "id": "e9d3b850",
   "metadata": {},
   "source": [
    "### genre count\n",
    "this column containes the count of the genres of a movie"
   ]
  },
  {
   "cell_type": "code",
   "execution_count": 19,
   "id": "c24b86b6",
   "metadata": {
    "ExecuteTime": {
     "end_time": "2022-12-13T08:28:30.024683Z",
     "start_time": "2022-12-13T08:28:30.016213Z"
    }
   },
   "outputs": [],
   "source": [
    "# creating new values based on amount of ',' pluss one, because a comma seperates two values and two commas seperate three values\n",
    "genre_count = [];\n",
    "for genre in df_Netflix_movies['listed_in']:\n",
    "    if ',' in str(genre):\n",
    "        genre_count.append(genre.count(',') + 1)\n",
    "    elif pd.isna(genre):\n",
    "        genre_count.append(0)\n",
    "    else:\n",
    "        genre_count.append(1)"
   ]
  },
  {
   "cell_type": "code",
   "execution_count": 11,
   "id": "41cd7f2d",
   "metadata": {
    "ExecuteTime": {
     "end_time": "2022-12-13T08:21:27.747455Z",
     "start_time": "2022-12-13T08:21:27.739105Z"
    }
   },
   "outputs": [],
   "source": [
    "df_Netflix_movies['genre_count'] = genre_count"
   ]
  },
  {
   "cell_type": "markdown",
   "id": "cb2f8674",
   "metadata": {},
   "source": [
    "### checking all new derived columns"
   ]
  },
  {
   "cell_type": "code",
   "execution_count": 14,
   "id": "b1ffcff9",
   "metadata": {
    "ExecuteTime": {
     "end_time": "2022-12-13T08:23:03.498829Z",
     "start_time": "2022-12-13T08:23:03.492092Z"
    }
   },
   "outputs": [
    {
     "data": {
      "text/plain": [
       "360     1793\n",
       "720      425\n",
       "1080     199\n",
       "90       152\n",
       "93       146\n",
       "        ... \n",
       "6120       1\n",
       "186        1\n",
       "178        1\n",
       "18         1\n",
       "191        1\n",
       "Name: duration_in_min, Length: 221, dtype: int64"
      ]
     },
     "execution_count": 14,
     "metadata": {},
     "output_type": "execute_result"
    }
   ],
   "source": [
    "df_Netflix_movies['duration_in_min'].value_counts()"
   ]
  },
  {
   "cell_type": "code",
   "execution_count": 13,
   "id": "17575f9c",
   "metadata": {
    "ExecuteTime": {
     "end_time": "2022-12-13T08:22:46.902797Z",
     "start_time": "2022-12-13T08:22:46.896643Z"
    }
   },
   "outputs": [
    {
     "data": {
      "text/plain": [
       "10    1442\n",
       "8     1179\n",
       "1      881\n",
       "0      825\n",
       "9      688\n",
       "6      620\n",
       "7      617\n",
       "11     474\n",
       "5      370\n",
       "12     307\n",
       "4      272\n",
       "2      201\n",
       "3      193\n",
       "13     186\n",
       "14     125\n",
       "15     120\n",
       "16      72\n",
       "17      47\n",
       "18      37\n",
       "19      28\n",
       "20      26\n",
       "21      16\n",
       "22      11\n",
       "25       9\n",
       "23       9\n",
       "24       7\n",
       "26       6\n",
       "28       6\n",
       "27       4\n",
       "34       3\n",
       "33       3\n",
       "47       3\n",
       "50       2\n",
       "41       2\n",
       "30       2\n",
       "38       2\n",
       "40       2\n",
       "31       2\n",
       "39       2\n",
       "44       1\n",
       "36       1\n",
       "35       1\n",
       "29       1\n",
       "42       1\n",
       "32       1\n",
       "Name: cast_count, dtype: int64"
      ]
     },
     "execution_count": 13,
     "metadata": {},
     "output_type": "execute_result"
    }
   ],
   "source": [
    "df_Netflix_movies['cast_count'].value_counts()"
   ]
  },
  {
   "cell_type": "code",
   "execution_count": 12,
   "id": "1b47f452",
   "metadata": {
    "ExecuteTime": {
     "end_time": "2022-12-13T08:21:27.756326Z",
     "start_time": "2022-12-13T08:21:27.749425Z"
    }
   },
   "outputs": [
    {
     "data": {
      "text/plain": [
       "3    3729\n",
       "2    3058\n",
       "1    2020\n",
       "Name: genre_count, dtype: int64"
      ]
     },
     "execution_count": 12,
     "metadata": {},
     "output_type": "execute_result"
    }
   ],
   "source": [
    "df_Netflix_movies['genre_count'].value_counts()"
   ]
  },
  {
   "cell_type": "markdown",
   "id": "32bfa041",
   "metadata": {},
   "source": [
    "### checking for weird values:\n",
    "High minute numbers are because of high amount of seasons"
   ]
  },
  {
   "cell_type": "code",
   "execution_count": 15,
   "id": "2f086024",
   "metadata": {
    "ExecuteTime": {
     "end_time": "2022-12-13T08:24:35.755979Z",
     "start_time": "2022-12-13T08:24:35.623796Z"
    }
   },
   "outputs": [],
   "source": [
    "# create subset containing weird minute numbers\n",
    "test = df_Netflix_movies[df_Netflix_movies['duration_in_min'] >= 1100]"
   ]
  },
  {
   "cell_type": "code",
   "execution_count": 16,
   "id": "d8187329",
   "metadata": {
    "ExecuteTime": {
     "end_time": "2022-12-13T08:24:41.149093Z",
     "start_time": "2022-12-13T08:24:41.134526Z"
    }
   },
   "outputs": [
    {
     "data": {
      "text/html": [
       "<div>\n",
       "<style scoped>\n",
       "    .dataframe tbody tr th:only-of-type {\n",
       "        vertical-align: middle;\n",
       "    }\n",
       "\n",
       "    .dataframe tbody tr th {\n",
       "        vertical-align: top;\n",
       "    }\n",
       "\n",
       "    .dataframe thead th {\n",
       "        text-align: right;\n",
       "    }\n",
       "</style>\n",
       "<table border=\"1\" class=\"dataframe\">\n",
       "  <thead>\n",
       "    <tr style=\"text-align: right;\">\n",
       "      <th></th>\n",
       "      <th>show_id</th>\n",
       "      <th>type</th>\n",
       "      <th>title</th>\n",
       "      <th>director</th>\n",
       "      <th>cast</th>\n",
       "      <th>country</th>\n",
       "      <th>date_added</th>\n",
       "      <th>release_year</th>\n",
       "      <th>rating</th>\n",
       "      <th>duration</th>\n",
       "      <th>listed_in</th>\n",
       "      <th>description</th>\n",
       "      <th>duration_in_min</th>\n",
       "      <th>cast_count</th>\n",
       "      <th>genre_count</th>\n",
       "    </tr>\n",
       "  </thead>\n",
       "  <tbody>\n",
       "    <tr>\n",
       "      <th>8</th>\n",
       "      <td>s9</td>\n",
       "      <td>TV Show</td>\n",
       "      <td>The Great British Baking Show</td>\n",
       "      <td>Andy Devonshire</td>\n",
       "      <td>Mel Giedroyc, Sue Perkins, Mary Berry, Paul Ho...</td>\n",
       "      <td>United Kingdom</td>\n",
       "      <td>September 24, 2021</td>\n",
       "      <td>2021</td>\n",
       "      <td>TV-14</td>\n",
       "      <td>9 Seasons</td>\n",
       "      <td>British TV Shows, Reality TV</td>\n",
       "      <td>A talented batch of amateur bakers face off in...</td>\n",
       "      <td>3240</td>\n",
       "      <td>4</td>\n",
       "      <td>2</td>\n",
       "    </tr>\n",
       "    <tr>\n",
       "      <th>15</th>\n",
       "      <td>s16</td>\n",
       "      <td>TV Show</td>\n",
       "      <td>Dear White People</td>\n",
       "      <td>NaN</td>\n",
       "      <td>Logan Browning, Brandon P. Bell, DeRon Horton,...</td>\n",
       "      <td>United States</td>\n",
       "      <td>September 22, 2021</td>\n",
       "      <td>2021</td>\n",
       "      <td>TV-MA</td>\n",
       "      <td>4 Seasons</td>\n",
       "      <td>TV Comedies, TV Dramas</td>\n",
       "      <td>Students of color navigate the daily slights a...</td>\n",
       "      <td>1440</td>\n",
       "      <td>8</td>\n",
       "      <td>2</td>\n",
       "    </tr>\n",
       "    <tr>\n",
       "      <th>21</th>\n",
       "      <td>s22</td>\n",
       "      <td>TV Show</td>\n",
       "      <td>Resurrection: Ertugrul</td>\n",
       "      <td>NaN</td>\n",
       "      <td>Engin Altan Düzyatan, Serdar Gökhan, Hülya Dar...</td>\n",
       "      <td>Turkey</td>\n",
       "      <td>September 22, 2021</td>\n",
       "      <td>2018</td>\n",
       "      <td>TV-14</td>\n",
       "      <td>5 Seasons</td>\n",
       "      <td>International TV Shows, TV Action &amp; Adventure,...</td>\n",
       "      <td>When a good deed unwittingly endangers his cla...</td>\n",
       "      <td>1800</td>\n",
       "      <td>10</td>\n",
       "      <td>3</td>\n",
       "    </tr>\n",
       "    <tr>\n",
       "      <th>55</th>\n",
       "      <td>s56</td>\n",
       "      <td>TV Show</td>\n",
       "      <td>Nailed It</td>\n",
       "      <td>NaN</td>\n",
       "      <td>Nicole Byer, Jacques Torres</td>\n",
       "      <td>United States</td>\n",
       "      <td>September 15, 2021</td>\n",
       "      <td>2021</td>\n",
       "      <td>TV-PG</td>\n",
       "      <td>6 Seasons</td>\n",
       "      <td>Reality TV</td>\n",
       "      <td>Home bakers with a terrible track record take ...</td>\n",
       "      <td>2160</td>\n",
       "      <td>2</td>\n",
       "      <td>1</td>\n",
       "    </tr>\n",
       "    <tr>\n",
       "      <th>65</th>\n",
       "      <td>s66</td>\n",
       "      <td>TV Show</td>\n",
       "      <td>Numberblocks</td>\n",
       "      <td>NaN</td>\n",
       "      <td>Beth Chalmers, David Holt, Marcel McCalla, Ter...</td>\n",
       "      <td>United Kingdom</td>\n",
       "      <td>September 15, 2021</td>\n",
       "      <td>2021</td>\n",
       "      <td>TV-Y</td>\n",
       "      <td>6 Seasons</td>\n",
       "      <td>Kids' TV</td>\n",
       "      <td>In a place called Numberland, math adds up to ...</td>\n",
       "      <td>2160</td>\n",
       "      <td>4</td>\n",
       "      <td>1</td>\n",
       "    </tr>\n",
       "  </tbody>\n",
       "</table>\n",
       "</div>"
      ],
      "text/plain": [
       "   show_id     type                          title         director  \\\n",
       "8       s9  TV Show  The Great British Baking Show  Andy Devonshire   \n",
       "15     s16  TV Show              Dear White People              NaN   \n",
       "21     s22  TV Show         Resurrection: Ertugrul              NaN   \n",
       "55     s56  TV Show                      Nailed It              NaN   \n",
       "65     s66  TV Show                   Numberblocks              NaN   \n",
       "\n",
       "                                                 cast         country  \\\n",
       "8   Mel Giedroyc, Sue Perkins, Mary Berry, Paul Ho...  United Kingdom   \n",
       "15  Logan Browning, Brandon P. Bell, DeRon Horton,...   United States   \n",
       "21  Engin Altan Düzyatan, Serdar Gökhan, Hülya Dar...          Turkey   \n",
       "55                        Nicole Byer, Jacques Torres   United States   \n",
       "65  Beth Chalmers, David Holt, Marcel McCalla, Ter...  United Kingdom   \n",
       "\n",
       "            date_added  release_year rating   duration  \\\n",
       "8   September 24, 2021          2021  TV-14  9 Seasons   \n",
       "15  September 22, 2021          2021  TV-MA  4 Seasons   \n",
       "21  September 22, 2021          2018  TV-14  5 Seasons   \n",
       "55  September 15, 2021          2021  TV-PG  6 Seasons   \n",
       "65  September 15, 2021          2021   TV-Y  6 Seasons   \n",
       "\n",
       "                                            listed_in  \\\n",
       "8                        British TV Shows, Reality TV   \n",
       "15                             TV Comedies, TV Dramas   \n",
       "21  International TV Shows, TV Action & Adventure,...   \n",
       "55                                         Reality TV   \n",
       "65                                           Kids' TV   \n",
       "\n",
       "                                          description  duration_in_min  \\\n",
       "8   A talented batch of amateur bakers face off in...             3240   \n",
       "15  Students of color navigate the daily slights a...             1440   \n",
       "21  When a good deed unwittingly endangers his cla...             1800   \n",
       "55  Home bakers with a terrible track record take ...             2160   \n",
       "65  In a place called Numberland, math adds up to ...             2160   \n",
       "\n",
       "    cast_count  genre_count  \n",
       "8            4            2  \n",
       "15           8            2  \n",
       "21          10            3  \n",
       "55           2            1  \n",
       "65           4            1  "
      ]
     },
     "execution_count": 16,
     "metadata": {},
     "output_type": "execute_result"
    }
   ],
   "source": [
    "test.head()"
   ]
  },
  {
   "cell_type": "code",
   "execution_count": 18,
   "id": "6ec36157",
   "metadata": {
    "ExecuteTime": {
     "end_time": "2022-12-13T08:26:38.184969Z",
     "start_time": "2022-12-13T08:26:38.053832Z"
    }
   },
   "outputs": [],
   "source": [
    "# export df\n",
    "df_Netflix_movies.to_csv(os.path.join(path, '02 Data','Cleaned Data', 'netflix_new_columns.csv'))"
   ]
  }
 ],
 "metadata": {
  "kernelspec": {
   "display_name": "Python 3",
   "language": "python",
   "name": "python3"
  },
  "language_info": {
   "codemirror_mode": {
    "name": "ipython",
    "version": 3
   },
   "file_extension": ".py",
   "mimetype": "text/x-python",
   "name": "python",
   "nbconvert_exporter": "python",
   "pygments_lexer": "ipython3",
   "version": "3.8.8"
  }
 },
 "nbformat": 4,
 "nbformat_minor": 5
}
